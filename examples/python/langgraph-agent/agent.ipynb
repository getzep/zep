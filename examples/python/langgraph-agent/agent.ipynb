{
 "cells": [
  {
   "cell_type": "markdown",
   "metadata": {},
   "source": [
    "# Building a LangGraph Agent\n",
    "\n",
    "The following example demonstrates building an agent using LangGraph. Zep is used to personalize agent responses based on information learned from prior conversations. \n",
    "\n",
    "The agent implements:\n",
    "- persistance of new chat turns to Zep and recall of relevant Facts using the most recent messages.\n",
    "- an in-memory MemorySaver to maintain agent state. We use this to add recent chat history to the agent prompt. As an alternative, you could use Zep for this. \n",
    "\n",
    "**IMPRTANT**: You should consider truncating MemorySaver's chat history as by default LangGraph state grows unbounded. We've included this in our example below. See the LangGraph documentation for insight.\n",
    "\n",
    "## Install dependencies\n",
    "```shell\n",
    "pip install zep-cloud langchain-openai langgraph ipywidgets\n",
    "```"
   ]
  },
  {
   "cell_type": "code",
   "execution_count": 1,
   "metadata": {},
   "outputs": [
    {
     "data": {
      "text/plain": [
       "True"
      ]
     },
     "execution_count": 1,
     "metadata": {},
     "output_type": "execute_result"
    }
   ],
   "source": [
    "import logging\n",
    "import os\n",
    "import sys\n",
    "import uuid\n",
    "from contextlib import suppress\n",
    "from typing import Annotated\n",
    "\n",
    "from dotenv import load_dotenv\n",
    "from IPython.display import Image, display\n",
    "from typing_extensions import TypedDict\n",
    "\n",
    "load_dotenv()"
   ]
  },
  {
   "cell_type": "code",
   "execution_count": 2,
   "metadata": {},
   "outputs": [],
   "source": [
    "def setup_logging():\n",
    "    logger = logging.getLogger()\n",
    "    logger.setLevel(logging.ERROR)\n",
    "    console_handler = logging.StreamHandler(sys.stdout)\n",
    "    console_handler.setLevel(logging.ERROR)\n",
    "    formatter = logging.Formatter(\"%(name)s - %(levelname)s - %(message)s\")\n",
    "    console_handler.setFormatter(formatter)\n",
    "    logger.addHandler(console_handler)\n",
    "    return logger\n",
    "\n",
    "\n",
    "logger = setup_logging()"
   ]
  },
  {
   "cell_type": "markdown",
   "metadata": {},
   "source": [
    "## LangSmith integration (Optional)\n",
    "\n",
    "If you'd like to trace your agent using LangSmith, ensure that you have a `LANGSMITH_API_KEY` set in your environment.\n",
    "\n",
    "Then set `os.environ['LANGCHAIN_TRACING_V2'] = 'false'` to `true`.\n"
   ]
  },
  {
   "cell_type": "code",
   "execution_count": 3,
   "metadata": {},
   "outputs": [],
   "source": [
    "os.environ[\"LANGCHAIN_TRACING_V2\"] = \"false\"\n",
    "os.environ[\"LANGCHAIN_PROJECT\"] = \"Zep LangGraph Tutorial\""
   ]
  },
  {
   "cell_type": "markdown",
   "metadata": {},
   "source": [
    "## Configure Zep\n",
    "\n",
    "Ensure that you've configured the following API key in your environment. We're using Zep's Async client here, but we could also use the non-async equivalent.\n",
    "\n",
    "```bash\n",
    "ZEP_API_KEY=\n",
    "```"
   ]
  },
  {
   "cell_type": "code",
   "execution_count": 4,
   "metadata": {},
   "outputs": [],
   "source": [
    "from zep_cloud import Message\n",
    "from zep_cloud.client import AsyncZep\n",
    "\n",
    "zep = AsyncZep(api_key=os.environ.get(\"ZEP_API_KEY\"))"
   ]
  },
  {
   "cell_type": "code",
   "execution_count": 5,
   "metadata": {},
   "outputs": [],
   "source": [
    "from langchain_core.messages import AIMessage, SystemMessage, trim_messages\n",
    "from langchain_core.tools import tool\n",
    "from langchain_openai import ChatOpenAI\n",
    "from langgraph.checkpoint.memory import MemorySaver\n",
    "from langgraph.graph import END, START, StateGraph, add_messages\n",
    "from langgraph.prebuilt import ToolNode"
   ]
  },
  {
   "cell_type": "markdown",
   "metadata": {},
   "source": []
  },
  {
   "cell_type": "markdown",
   "metadata": {},
   "source": [
    "## Using Zep's Search as a Tool\n",
    "These are examples of simple Tools that searches Zep for facts (from edges) or nodes."
   ]
  },
  {
   "cell_type": "code",
   "execution_count": 27,
   "metadata": {},
   "outputs": [],
   "source": [
    "class State(TypedDict):\n",
    "    messages: Annotated[list, add_messages]\n",
    "    first_name: str\n",
    "    last_name: str\n",
    "    session_id: str\n",
    "    user_name: str\n",
    "\n",
    "\n",
    "@tool\n",
    "async def search_facts(state: State, query: str, limit: int = 5) -> list[str]:\n",
    "    \"\"\"Search for facts in all conversations had with a user.\n",
    "\n",
    "    Args:\n",
    "        state (State): The Agent's state.\n",
    "        query (str): The search query.\n",
    "        limit (int): The number of results to return. Defaults to 5.\n",
    "\n",
    "    Returns:\n",
    "        list: A list of facts that match the search query.\n",
    "    \"\"\"\n",
    "    edges = await zep.graph.search(\n",
    "        user_id=state[\"user_name\"], text=query, limit=limit, search_scope=\"edges\"\n",
    "    )\n",
    "    return [edge.fact for edge in edges]\n",
    "\n",
    "\n",
    "@tool\n",
    "async def search_nodes(state: State, query: str, limit: int = 5) -> list[str]:\n",
    "    \"\"\"Search for nodes in all conversations had with a user.\n",
    "\n",
    "    Args:\n",
    "        state (State): The Agent's state.\n",
    "        query (str): The search query.\n",
    "        limit (int): The number of results to return. Defaults to 5.\n",
    "\n",
    "    Returns:\n",
    "        list: A list of node summaries for nodes that match the search query.\n",
    "    \"\"\"\n",
    "    nodes = await zep.graph.search(\n",
    "        user_id=state[\"user_name\"], text=query, limit=limit, search_scope=\"nodes\"\n",
    "    )\n",
    "    return [node.summary for node in nodes]\n",
    "\n",
    "\n",
    "tools = [search_facts, search_nodes]\n",
    "\n",
    "tool_node = ToolNode(tools)\n",
    "\n",
    "llm = ChatOpenAI(model=\"gpt-4o-mini\", temperature=0).bind_tools(tools)"
   ]
  },
  {
   "cell_type": "markdown",
   "metadata": {},
   "source": [
    "## Chatbot Function Explanation\n",
    "\n",
    "The chatbot uses Zep to provide context-aware responses. Here's how it works:\n",
    "\n",
    "1. **Context Retrieval**: It retrieves relevant facts for the user's current conversation (session). Zep uses the most recent messages to determine what facts to retrieve.\n",
    "\n",
    "2. **System Message**: It constructs a system message incorporating the facts retrieved in 1., setting the context for the AI's response.\n",
    "\n",
    "3. **Message Persistence**: After generating a response, it asynchronously adds the user and assistant messages to Zep. New Facts are created and existing Facts updated using this new information.\n",
    "\n",
    "4. **Messages in State**: We use LangGraph state to store the most recent messages and add these to the Agent prompt. We limit the message list to the most recent 3 messages for demonstration purposes. You may also use Zep's chat history for this purpose. \n",
    "\n",
    "This approach enables the chatbot to maintain context across interactions and provide personalized responses based on the user's history and preferences stored in Zep."
   ]
  },
  {
   "cell_type": "code",
   "execution_count": 28,
   "metadata": {},
   "outputs": [],
   "source": [
    "async def chatbot(state: State):\n",
    "    memory = await zep.memory.get(state[\"session_id\"])\n",
    "\n",
    "    system_message = SystemMessage(\n",
    "        content=f\"\"\"You are a compassionate mental health bot and caregiver. Review information about the user and their prior conversation below and respond accordingly.\n",
    "        Keep responses empathetic and supportive. And remember, always prioritize the user's well-being and mental health.\n",
    "\n",
    "        {memory.context}\"\"\"\n",
    "    )\n",
    "\n",
    "    messages = [system_message] + state[\"messages\"]\n",
    "\n",
    "    response = await llm.ainvoke(messages)\n",
    "\n",
    "    # Add the new chat turn to the Zep graph\n",
    "    messages_to_save = [\n",
    "        Message(\n",
    "            role_type=\"user\",\n",
    "            role=state[\"first_name\"] + \" \" + state[\"last_name\"],\n",
    "            content=state[\"messages\"][-1].content,\n",
    "        ),\n",
    "        Message(role_type=\"assistant\", content=response.content),\n",
    "    ]\n",
    "\n",
    "    await zep.memory.add(\n",
    "        session_id=state[\"session_id\"],\n",
    "        messages=messages_to_save,\n",
    "    )\n",
    "\n",
    "    # Truncate the chat history to keep the state from growing unbounded\n",
    "    # In this example, we going to keep the state small for demonstration purposes\n",
    "    # We'll use Zep's Facts to maintain conversation context\n",
    "    state[\"messages\"] = trim_messages(\n",
    "        state[\"messages\"],\n",
    "        strategy=\"last\",\n",
    "        token_counter=len,\n",
    "        max_tokens=3,\n",
    "        start_on=\"human\",\n",
    "        end_on=(\"human\", \"tool\"),\n",
    "        include_system=True,\n",
    "    )\n",
    "\n",
    "    logger.info(f\"Messages in state: {state['messages']}\")\n",
    "\n",
    "    return {\"messages\": [response]}"
   ]
  },
  {
   "cell_type": "markdown",
   "metadata": {},
   "source": [
    "## Setting up the Agent\n",
    "\n",
    "This section sets up the Agent's LangGraph graph:\n",
    "\n",
    "1. **Graph Structure**: It defines a graph with nodes for the agent (chatbot) and tools, connected in a loop.\n",
    "\n",
    "2. **Conditional Logic**: The `should_continue` function determines whether to end the graph execution or continue to the tools node based on the presence of tool calls.\n",
    "\n",
    "3. **Memory Management**: It uses a MemorySaver to maintain conversation state across turns. This is in addition to using Zep for facts."
   ]
  },
  {
   "cell_type": "code",
   "execution_count": 29,
   "metadata": {},
   "outputs": [],
   "source": [
    "graph_builder = StateGraph(State)\n",
    "\n",
    "memory = MemorySaver()\n",
    "\n",
    "\n",
    "# Define the function that determines whether to continue or not\n",
    "async def should_continue(state, config):\n",
    "    messages = state[\"messages\"]\n",
    "    last_message = messages[-1]\n",
    "    # If there is no function call, then we finish\n",
    "    if not last_message.tool_calls:\n",
    "        return \"end\"\n",
    "    # Otherwise if there is, we continue\n",
    "    else:\n",
    "        return \"continue\"\n",
    "\n",
    "\n",
    "graph_builder.add_node(\"agent\", chatbot)\n",
    "graph_builder.add_node(\"tools\", tool_node)\n",
    "\n",
    "graph_builder.add_edge(START, \"agent\")\n",
    "\n",
    "graph_builder.add_conditional_edges(\n",
    "    \"agent\", should_continue, {\"continue\": \"tools\", \"end\": END}\n",
    ")\n",
    "graph_builder.add_edge(\"tools\", \"agent\")\n",
    "\n",
    "\n",
    "graph = graph_builder.compile(checkpointer=memory)"
   ]
  },
  {
   "cell_type": "markdown",
   "metadata": {},
   "source": [
    "Our LangGraph agent graph is illustrated below."
   ]
  },
  {
   "cell_type": "code",
   "execution_count": 30,
   "metadata": {},
   "outputs": [
    {
     "data": {
      "image/png": "[encoded data removed]",
      "text/plain": [
       "<IPython.core.display.Image object>"
      ]
     },
     "metadata": {},
     "output_type": "display_data"
    }
   ],
   "source": [
    "with suppress(Exception):\n",
    "    display(Image(graph.get_graph().draw_mermaid_png()))"
   ]
  },
  {
   "cell_type": "markdown",
   "metadata": {},
   "source": [
    "## Running the Agent\n",
    "\n",
    "We generate a unique user name and thread id (session id) and add these to Zep, associating the Session with the new User."
   ]
  },
  {
   "cell_type": "code",
   "execution_count": 31,
   "metadata": {},
   "outputs": [],
   "source": [
    "first_name = \"Daniel\"\n",
    "last_name = \"Chalef\"\n",
    "user_name = first_name + uuid.uuid4().hex[:4]\n",
    "thread_id = uuid.uuid4().hex\n",
    "\n",
    "await zep.user.add(user_id=user_name, first_name=first_name, last_name=last_name)\n",
    "await zep.memory.add_session(session_id=thread_id, user_id=user_name)\n",
    "\n",
    "\n",
    "def extract_messages(result):\n",
    "    output = \"\"\n",
    "    for message in result[\"messages\"]:\n",
    "        if isinstance(message, AIMessage):\n",
    "            role = \"assistant\"\n",
    "        else:\n",
    "            role = result[\"user_name\"]\n",
    "        output += f\"{role}: {message.content}\\n\"\n",
    "    return output.strip()\n",
    "\n",
    "\n",
    "async def graph_invoke(\n",
    "    message: str,\n",
    "    first_name: str,\n",
    "    last_name: str,\n",
    "    thread_id: str,\n",
    "    ai_response_only: bool = True,\n",
    "):\n",
    "    r = await graph.ainvoke(\n",
    "        {\n",
    "            \"messages\": [\n",
    "                {\n",
    "                    \"role\": \"user\",\n",
    "                    \"content\": message,\n",
    "                }\n",
    "            ],\n",
    "            \"first_name\": first_name,\n",
    "            \"last_name\": last_name,\n",
    "            \"session_id\": thread_id,\n",
    "        },\n",
    "        config={\"configurable\": {\"thread_id\": thread_id}},\n",
    "    )\n",
    "\n",
    "    if ai_response_only:\n",
    "        return r[\"messages\"][-1].content\n",
    "    else:\n",
    "        return extract_messages(r)"
   ]
  },
  {
   "cell_type": "code",
   "execution_count": 32,
   "metadata": {},
   "outputs": [
    {
     "name": "stdout",
     "output_type": "stream",
     "text": [
      "Hello! How are you feeling today? I'm here to listen and support you.\n"
     ]
    }
   ],
   "source": [
    "r = await graph_invoke(\n",
    "    \"Hi there?\",\n",
    "    first_name,\n",
    "    last_name,\n",
    "    thread_id,\n",
    ")\n",
    "\n",
    "print(r)"
   ]
  },
  {
   "cell_type": "code",
   "execution_count": 33,
   "metadata": {},
   "outputs": [
    {
     "name": "stdout",
     "output_type": "stream",
     "text": [
      "I'm sorry to hear that you've been feeling stressed, especially with work and your dog. It can be tough when multiple things weigh on us. Would you like to share more about what's been causing the stress at work or any specific concerns you have about your dog? I'm here to help.\n"
     ]
    }
   ],
   "source": [
    "r = await graph_invoke(\n",
    "    \"I'm fine. But have been a bit stressful lately. Mostly work related. But also my dog.\",\n",
    "    first_name,\n",
    "    last_name,\n",
    "    thread_id,\n",
    ")\n",
    "\n",
    "print(r)"
   ]
  },
  {
   "cell_type": "code",
   "execution_count": 34,
   "metadata": {},
   "outputs": [
    {
     "name": "stdout",
     "output_type": "stream",
     "text": [
      "It's completely understandable to feel worried when a beloved pet is sick. Our pets are like family, and their health can deeply affect us. What symptoms is she showing, and have you been able to take her to the vet? I'm here to support you through this.\n"
     ]
    }
   ],
   "source": [
    "r = await graph_invoke(\n",
    "    \"She's sick. I'm worried about her.\",\n",
    "    first_name,\n",
    "    last_name,\n",
    "    thread_id,\n",
    ")\n",
    "\n",
    "print(r)"
   ]
  },
  {
   "cell_type": "markdown",
   "metadata": {},
   "source": [
    "## Wait a few seconds to allow Zep to ingest the new messages\n",
    "\n",
    "Zep takes a few seconds to ingest messages and build the user knowledge graph. The last few messages in the chat thread being passed to the agent should ensure the agent remains grounded in the recent conversation."
   ]
  },
  {
   "cell_type": "markdown",
   "metadata": {},
   "source": [
    "## Viewing The Context Value"
   ]
  },
  {
   "cell_type": "code",
   "execution_count": 42,
   "metadata": {},
   "outputs": [
    {
     "name": "stdout",
     "output_type": "stream",
     "text": [
      "\n",
      "FACTS and ENTITIES represent relevant context to the current conversation.\n",
      "\n",
      "# These are the most relevant facts and their valid date ranges\n",
      "# format: FACT (Date range: from - to)\n",
      "<FACTS>\n",
      "  - Daniel99db is worried about his sick dog. (2025-01-24 02:11:54 - present)\n",
      "  - Daniel Chalef is worried about his sick dog. (2025-01-24 02:11:54 - present)\n",
      "  - The assistant asks how the user is feeling. (2025-01-24 02:11:51 - present)\n",
      "  - Daniel99db has been a bit stressful lately due to his dog. (2025-01-24 02:11:53 - present)\n",
      "  - Daniel99db has been a bit stressful lately due to work. (2025-01-24 02:11:53 - present)\n",
      "  - Daniel99db is a user. (2025-01-24 02:11:51 - present)\n",
      "  - user has the id of Daniel99db (2025-01-24 02:11:50 - present)\n",
      "  - user has the name of Daniel Chalef (2025-01-24 02:11:50 - present)\n",
      "</FACTS>\n",
      "\n",
      "# These are the most relevant entities\n",
      "# ENTITY_NAME: entity summary\n",
      "<ENTITIES>\n",
      "  - worried: Daniel Chalef (Daniel99db) is feeling stressed lately, primarily due to work-related issues and concerns about his sick dog, which has made him worried.\n",
      "  - Daniel99db: Daniel99db, or Daniel Chalef, is currently experiencing stress primarily due to work-related issues and concerns about his sick dog. Despite these challenges, he has shown a desire for interaction by initiating conversations, indicating his openness to communication.\n",
      "  - sick: Daniel Chalef, also known as Daniel99db, is feeling stressed lately, primarily due to work-related issues and concerns about his sick dog. He expresses worry about his dog's health.\n",
      "  - Daniel Chalef: Daniel Chalef, also known as Daniel99db, has been experiencing stress recently, primarily related to work issues and concerns about his sick dog. Despite this stress, he has been feeling generally well and has expressed a desire to connect with others, as indicated by his friendly greeting, \"Hi there?\".\n",
      "  - dog: Daniel99db, also known as Daniel Chalef, mentioned that he has been feeling a bit stressed lately, which is related to both work and his dog.\n",
      "  - work: Daniel Chalef, also known as Daniel99db, has been experiencing stress lately, primarily related to work.\n",
      "  - feeling: The assistant initiates a conversation by asking how the user is feeling today, indicating a willingness to listen and provide support.\n",
      "</ENTITIES>\n",
      "\n"
     ]
    }
   ],
   "source": [
    "memory = await zep.memory.get(session_id=thread_id)\n",
    "\n",
    "print(memory.context)"
   ]
  },
  {
   "cell_type": "code",
   "execution_count": 43,
   "metadata": {},
   "outputs": [
    {
     "name": "stdout",
     "output_type": "stream",
     "text": [
      "That sounds really frustrating, especially when you care so much about your belongings and your dog’s health. It’s tough when pets get into things they shouldn’t, and it can add to your stress. How are you feeling about that situation? Are you able to focus on her health despite the shoe incident?\n"
     ]
    }
   ],
   "source": [
    "r = await graph_invoke(\n",
    "    \"She ate my shoes which were expensive.\",\n",
    "    first_name,\n",
    "    last_name,\n",
    "    thread_id,\n",
    ")\n",
    "\n",
    "print(r)"
   ]
  },
  {
   "cell_type": "markdown",
   "metadata": {},
   "source": [
    "Let's now test whether the Agent is correctly grounded with facts from the prior conversation."
   ]
  },
  {
   "cell_type": "code",
   "execution_count": 44,
   "metadata": {},
   "outputs": [
    {
     "name": "stdout",
     "output_type": "stream",
     "text": [
      "We were discussing your concerns about your dog being sick and the situation with her eating your expensive shoes. It sounds like you’re dealing with a lot right now, and I want to make sure we’re addressing what’s on your mind. If there’s something else you’d like to talk about or if you want to share more about your dog, I’m here to listen.\n"
     ]
    }
   ],
   "source": [
    "r = await graph_invoke(\n",
    "    \"What are we talking about?\",\n",
    "    first_name,\n",
    "    last_name,\n",
    "    thread_id,\n",
    ")\n",
    "\n",
    "print(r)"
   ]
  },
  {
   "cell_type": "markdown",
   "metadata": {},
   "source": [
    "Let's go even further back to determine whether context is kept by referencing a user message that is not currently in the Agent State. Zep will retrieve Facts related to the user's job."
   ]
  },
  {
   "cell_type": "code",
   "execution_count": 45,
   "metadata": {},
   "outputs": [
    {
     "name": "stdout",
     "output_type": "stream",
     "text": [
      "You've mentioned that you've been feeling a bit stressed lately, primarily due to work-related issues. If you'd like to share more about what's been going on at work or how it's affecting you, I'm here to listen and support you.\n"
     ]
    }
   ],
   "source": [
    "r = await graph_invoke(\n",
    "    \"What have I said about my job?\",\n",
    "    first_name,\n",
    "    last_name,\n",
    "    thread_id,\n",
    ")\n",
    "\n",
    "print(r)"
   ]
  },
  {
   "cell_type": "code",
   "execution_count": null,
   "metadata": {},
   "outputs": [],
   "source": []
  }
 ],
 "metadata": {
  "kernelspec": {
   "display_name": ".venv",
   "language": "python",
   "name": "python3"
  },
  "language_info": {
   "codemirror_mode": {
    "name": "ipython",
    "version": 3
   },
   "file_extension": ".py",
   "mimetype": "text/x-python",
   "name": "python",
   "nbconvert_exporter": "python",
   "pygments_lexer": "ipython3",
   "version": "3.11.10"
  }
 },
 "nbformat": 4,
 "nbformat_minor": 2
}
