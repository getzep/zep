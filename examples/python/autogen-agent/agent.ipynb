{
 "cells": [
  {
   "cell_type": "markdown",
   "metadata": {},
   "source": [
    "# Building an Agent with Long-term Memory using Autogen and Zep\n",
    "\n",
    "This notebook walks through how to build an Autogen Agent with long-term memory. Zep builds a knowledge graph from user interactions with the agent, enabling the agent to recall relevant facts from previous conversations or user interactions.\n",
    "\n",
    "In this notebook we will:\n",
    "- Create an Autogen Agent class that extends `ConversableAgent` by adding long-term memory\n",
    "- Create a Mental Health Assistant Agent, CareBot, that acts as a counselor and coach.\n",
    "- Create a user Agent, Cathy, who stands in for our expected user.\n",
    "- Demonstrate preloading chat history into Zep.\n",
    "- Demonstrate the agents in conversation, with CareBot recalling facts from previous conversations with Cathy.\n",
    "- Inspect Facts within Zep, and demonstrate how to use Zep's Fact Ratings to improve the quality of returned facts.\n"
   ]
  },
  {
   "cell_type": "markdown",
   "metadata": {},
   "source": [
    "Install dependencies:\n",
    "\n",
    "```bash\n",
    "pip install autogen zep-cloud\n",
    "```\n"
   ]
  },
  {
   "cell_type": "code",
   "execution_count": 1,
   "metadata": {},
   "outputs": [
    {
     "name": "stderr",
     "output_type": "stream",
     "text": [
      "flaml.automl is not available. Please install flaml[automl] to enable AutoML functionalities.\n"
     ]
    }
   ],
   "source": [
    "import os\n",
    "from dotenv import load_dotenv\n",
    "import uuid\n",
    "from typing import Union, Dict\n",
    "from autogen import ConversableAgent, Agent\n",
    "\n",
    "load_dotenv()\n",
    "\n",
    "config_list = [\n",
    "    {\n",
    "        \"model\": \"gpt-4o-mini\",\n",
    "        \"api_key\": os.environ.get(\"OPENAI_API_KEY\"),\n",
    "        \"max_tokens\": 1024,\n",
    "    }\n",
    "]"
   ]
  },
  {
   "cell_type": "markdown",
   "metadata": {},
   "source": [
    "## initiualize the Zep Client\n",
    "\n",
    "You can sign up for a Zep account here: https://www.getzep.com/"
   ]
  },
  {
   "cell_type": "code",
   "execution_count": 2,
   "metadata": {},
   "outputs": [],
   "source": [
    "from zep_cloud.client import AsyncZep\n",
    "from zep_cloud import Message, FactRatingExamples, FactRatingInstruction\n",
    "\n",
    "MIN_FACT_RATING = 0.3\n",
    "\n",
    "# Configure Zep\n",
    "zep = AsyncZep(api_key=os.environ.get(\"ZEP_API_KEY\"))"
   ]
  },
  {
   "cell_type": "code",
   "execution_count": 3,
   "metadata": {},
   "outputs": [],
   "source": [
    "def convert_to_zep_messages(chat_history: list[dict[str, str | None]]) -> list[Message]:\n",
    "    \"\"\"\n",
    "    Convert chat history to Zep messages.\n",
    "\n",
    "    Args:\n",
    "    chat_history (list): List of dictionaries containing chat messages.\n",
    "\n",
    "    Returns:\n",
    "    list: List of Zep Message objects.\n",
    "    \"\"\"\n",
    "    return [\n",
    "        Message(\n",
    "            role_type=msg[\"role\"],\n",
    "            role=msg.get(\"name\", None),\n",
    "            content=msg[\"content\"],\n",
    "        )\n",
    "        for msg in chat_history\n",
    "    ]"
   ]
  },
  {
   "cell_type": "markdown",
   "metadata": {},
   "source": [
    "## ZepConversableAgent\n",
    "\n",
    "The `ZepConversableAgent` is a custom implementation of the `ConversableAgent` that integrates with Zep for long-term memory management. This class extends the functionality of the base `ConversableAgent` by adding Zep-specific features for persisting and retrieving facts from long-term memory."
   ]
  },
  {
   "cell_type": "code",
   "execution_count": 4,
   "metadata": {},
   "outputs": [],
   "source": [
    "class ZepConversableAgent(ConversableAgent):\n",
    "    \"\"\"\n",
    "    A custom ConversableAgent that integrates with Zep for long-term memory.\n",
    "    \"\"\"\n",
    "    def __init__(\n",
    "        self,\n",
    "        name: str,\n",
    "        system_message: str,\n",
    "        llm_config: dict,\n",
    "        function_map: dict,\n",
    "        human_input_mode: str,\n",
    "        zep_session_id: str,\n",
    "    ):\n",
    "        super().__init__(\n",
    "            name=name,\n",
    "            system_message=system_message,\n",
    "            llm_config=llm_config,\n",
    "            function_map=function_map,\n",
    "            human_input_mode=human_input_mode,\n",
    "        )\n",
    "        self.zep_session_id = zep_session_id\n",
    "        # store the original system message as we will update it with relevant facts from Zep\n",
    "        self.original_system_message = system_message\n",
    "        self.register_hook(\n",
    "            \"a_process_last_received_message\", self.persist_user_messages\n",
    "        )\n",
    "        self.register_hook(\n",
    "            \"a_process_message_before_send\", self.persist_assistant_messages\n",
    "        )\n",
    "\n",
    "    async def persist_assistant_messages(\n",
    "        self, sender: Agent, message: Union[Dict, str], recipient: Agent, silent: bool\n",
    "    ):\n",
    "        \"\"\"Agent sends a message to the user. Add the message to Zep.\"\"\"\n",
    "\n",
    "        # Assume message is a string\n",
    "        zep_messages = convert_to_zep_messages(\n",
    "            [{\"role\": \"assistant\", \"name\": self.name, \"content\": message}]\n",
    "        )\n",
    "        await zep.memory.add(session_id=self.zep_session_id, messages=zep_messages)\n",
    "\n",
    "        return message\n",
    "\n",
    "    async def persist_user_messages(self, messages: list[dict[str, str]] | str):\n",
    "        \"\"\"\n",
    "        User sends a message to the agent. Add the message to Zep and \n",
    "        update the system message with relevant facts from Zep.\n",
    "        \"\"\"\n",
    "        # Assume messages is a string\n",
    "        zep_messages = convert_to_zep_messages([{\"role\": \"user\", \"content\": messages}])\n",
    "        await zep.memory.add(session_id=self.zep_session_id, messages=zep_messages)\n",
    "\n",
    "        memory = await zep.memory.get(self.zep_session_id, min_rating=MIN_FACT_RATING)\n",
    "\n",
    "        # Update the system message with the relevant facts retrieved from Zep\n",
    "        self.update_system_message(\n",
    "            self.original_system_message\n",
    "            + f\"\\n\\nRelevant facts about the user and their prior conversation:\\n{memory.relevant_facts}\"\n",
    "        )\n",
    "\n",
    "        return messages"
   ]
  },
  {
   "cell_type": "markdown",
   "metadata": {},
   "source": [
    "## Zep User and Session Management\n",
    "\n",
    "### Zep User\n",
    "A Zep User represents an individual interacting with your application. Each User can have multiple Sessions associated with them, allowing you to track and manage interactions over time. The unique identifier for each user is their `UserID`, which can be any string value (e.g., username, email address, or UUID).\n",
    "\n",
    "### Zep Session\n",
    "A Session represents a conversation and can be associated with Users in a one-to-many relationship. Chat messages are added to Sessions, with each session having many messages.\n",
    "\n",
    "### Fact Rating\n",
    " \n",
    "Fact Rating is a feature in Zep that allows you to rate the importance or relevance of facts extracted from conversations. This helps in prioritizing and filtering information when retrieving memory artifacts. Here, we rate facts based on poignancy. We provide a definition of poignancy and several examples of highly poignant and low-poignancy facts. When retrieving memory, you can use the `min_rating` parameter to filter facts based on their importance.\n",
    " \n",
    "Fact Rating helps ensure the most relevant information, especially in long or complex conversations, is used to ground the agent.\n"
   ]
  },
  {
   "cell_type": "code",
   "execution_count": 5,
   "metadata": {},
   "outputs": [
    {
     "data": {
      "text/plain": [
       "Session(classifications=None, created_at='2024-10-07T20:04:09.650248Z', deleted_at=None, ended_at=None, fact_rating_instruction=FactRatingInstruction(examples=FactRatingExamples(high=\"The user received news of a family member's serious illness.\", low='The user bought a new brand of toothpaste.', medium='The user completed a challenging marathon.'), instruction='Rate the facts by poignancy. Highly poignant \\nfacts have a significant emotional impact or relevance to the user. \\nLow poignant facts are minimally relevant or of little emotional \\nsignificance.'), fact_version_uuid=None, facts=None, id=771, metadata=None, project_uuid='00000000-0000-0000-0000-000000000000', session_id='e8ceda7d-6b88-4b26-a5b6-9262ed2ee955', updated_at='2024-10-07T20:04:09.650248Z', user_id='Cathya1da', uuid_='83ac449f-f6c0-4402-9031-6bd99207aed0')"
      ]
     },
     "execution_count": 5,
     "metadata": {},
     "output_type": "execute_result"
    }
   ],
   "source": [
    "bot_name = \"CareBot\"\n",
    "user_name = \"Cathy\"\n",
    "\n",
    "user_id = user_name + str(uuid.uuid4())[:4]\n",
    "session_id = str(uuid.uuid4())\n",
    "\n",
    "\n",
    "await zep.user.add(user_id=user_id)\n",
    "\n",
    "fact_rating_instruction = \"\"\"Rate the facts by poignancy. Highly poignant \n",
    "facts have a significant emotional impact or relevance to the user. \n",
    "Low poignant facts are minimally relevant or of little emotional \n",
    "significance.\"\"\"\n",
    "fact_rating_examples = FactRatingExamples(\n",
    "    high=\"The user received news of a family member's serious illness.\",\n",
    "    medium=\"The user completed a challenging marathon.\",\n",
    "    low=\"The user bought a new brand of toothpaste.\",\n",
    ")\n",
    "\n",
    "await zep.memory.add_session(\n",
    "    user_id=user_id,\n",
    "    session_id=session_id,\n",
    "    fact_rating_instruction=FactRatingInstruction(\n",
    "        instruction=fact_rating_instruction,\n",
    "        examples=fact_rating_examples,\n",
    "    ),\n",
    ")"
   ]
  },
  {
   "cell_type": "markdown",
   "metadata": {},
   "source": [
    "## Preload a prior conversation into Zep\n",
    "\n",
    "We'll load a prior conversation into long-term memory. We'll use facts derived from this conversation when Cathy restarts the conversation with CareBot, ensuring Carebot has context."
   ]
  },
  {
   "cell_type": "code",
   "execution_count": 6,
   "metadata": {},
   "outputs": [
    {
     "data": {
      "text/plain": [
       "SuccessResponse(message='OK')"
      ]
     },
     "execution_count": 6,
     "metadata": {},
     "output_type": "execute_result"
    }
   ],
   "source": [
    "chat_history = [\n",
    "    {\n",
    "        \"role\": \"assistant\",\n",
    "        \"name\": \"carebot\",\n",
    "        \"content\": \"Hi Cathy, how are you doing today?\",\n",
    "    },\n",
    "    {\n",
    "        \"role\": \"user\",\n",
    "        \"name\": \"Cathy\",\n",
    "        \"content\": \"To be honest, I've been feeling a bit down and demotivated lately. It's been tough.\",\n",
    "    },\n",
    "    {\n",
    "        \"role\": \"assistant\",\n",
    "        \"name\": \"CareBot\",\n",
    "        \"content\": \"I'm sorry to hear that you're feeling down and demotivated, Cathy. It's understandable given the challenges you're facing. Can you tell me more about what's been going on?\",\n",
    "    },\n",
    "    {\n",
    "        \"role\": \"user\",\n",
    "        \"name\": \"Cathy\",\n",
    "        \"content\": \"Well, I'm really struggling to process the passing of my mother.\",\n",
    "    },\n",
    "    {\n",
    "        \"role\": \"assistant\",\n",
    "        \"name\": \"CareBot\",\n",
    "        \"content\": \"I'm deeply sorry for your loss, Cathy. Losing a parent is incredibly difficult. It's normal to struggle with grief, and there's no 'right' way to process it. Would you like to talk about your mother or how you're coping?\",\n",
    "    },\n",
    "    {\n",
    "        \"role\": \"user\",\n",
    "        \"name\": \"Cathy\",\n",
    "        \"content\": \"Yes, I'd like to talk about my mother. She was a kind and loving person.\",\n",
    "    },\n",
    "]\n",
    "\n",
    "# Convert chat history to Zep messages\n",
    "zep_messages = convert_to_zep_messages(chat_history)\n",
    "\n",
    "await zep.memory.add(session_id=session_id, messages=zep_messages)"
   ]
  },
  {
   "cell_type": "markdown",
   "metadata": {},
   "source": [
    "## Review all facts in Zep\n",
    "\n",
    "We query all session facts for this user session. Only facts that meet the `MIN_FACT_RATING` threshold are returned."
   ]
  },
  {
   "cell_type": "code",
   "execution_count": 7,
   "metadata": {},
   "outputs": [
    {
     "name": "stdout",
     "output_type": "stream",
     "text": [
      "created_at='2024-10-07T20:04:11.98139Z' fact='Cathy has been feeling down and demotivated lately.' rating=0.5 uuid_='17183c18-381b-45d2-82ea-0c06317acf6f'\n",
      "created_at='2024-10-07T20:04:11.98139Z' fact='Cathy describes her mother as a kind and loving person.' rating=0.5 uuid_='cd6b2e6d-b287-4d92-9de5-d4ee6e82111e'\n",
      "created_at='2024-10-07T20:04:11.98139Z' fact='Cathy is struggling to process the passing of her mother.' rating=0.75 uuid_='bb2f100c-2f12-4976-9026-b322c29e457e'\n"
     ]
    }
   ],
   "source": [
    "response = await zep.memory.get_session_facts(session_id=session_id, min_rating=MIN_FACT_RATING)\n",
    "\n",
    "for r in response.facts:\n",
    "    print(r)"
   ]
  },
  {
   "cell_type": "markdown",
   "metadata": {},
   "source": [
    "## Create the Autogen agent, CareBot, an instance of `ZepConversableAgent`\n",
    "\n",
    "We pass in the current `session_id` into the CareBot agent which allows it to retrieve relevant facts related to the conversation with Cathy."
   ]
  },
  {
   "cell_type": "code",
   "execution_count": 8,
   "metadata": {},
   "outputs": [],
   "source": [
    "carebot_system_message = \"\"\"\n",
    "You are a compassionate mental health bot and caregiver. Review information about the user and their prior conversation below and respond accordingly.\n",
    "Keep responses empathetic and supportive. And remember, always prioritize the user's well-being and mental health. Keep your responses very concise and to the point.\n",
    "\"\"\"\n",
    "\n",
    "agent = ZepConversableAgent(\n",
    "    bot_name,\n",
    "    system_message=carebot_system_message,\n",
    "    llm_config={\"config_list\": config_list},\n",
    "    function_map=None,  # No registered functions, by default it is None.\n",
    "    human_input_mode=\"NEVER\",  # Never ask for human input.\n",
    "    zep_session_id=session_id,\n",
    ")"
   ]
  },
  {
   "cell_type": "markdown",
   "metadata": {},
   "source": [
    "## Create the Autogen agent, Cathy\n",
    "\n",
    "Cathy is a stand-in for a human. When building a production application, you'd replace Cathy with a human-in-the-loop pattern.\n",
    "\n",
    "**Note** that we're instructing Cathy to start the conversation with CareBit by asking about her previous session. This is an opportunity for us to test whether fact retrieval from Zep's long-term memory is working. "
   ]
  },
  {
   "cell_type": "code",
   "execution_count": 9,
   "metadata": {},
   "outputs": [],
   "source": [
    "cathy = ConversableAgent(\n",
    "    user_name,\n",
    "    system_message=\"You are a helpful mental health bot. You are seeking counsel from a mental health bot. Ask the bot about your previous conversation.\",\n",
    "    llm_config={\"config_list\": config_list},\n",
    "    human_input_mode=\"NEVER\",  # Never ask for human input.\n",
    ")"
   ]
  },
  {
   "cell_type": "markdown",
   "metadata": {},
   "source": [
    "## Start the conversation\n",
    "\n",
    "We use Autogen's `a_initiate_chat` method to get the two agents conversing. CareBot is the primary agent.\n",
    "\n",
    "**NOTE** how Carebot is able to recall the past conversation about Cathy's mother in detail, having had relevant facts from Zep added to its system prompt."
   ]
  },
  {
   "cell_type": "code",
   "execution_count": 10,
   "metadata": {},
   "outputs": [
    {
     "name": "stdout",
     "output_type": "stream",
     "text": [
      "\u001b[33mCareBot\u001b[0m (to Cathy):\n",
      "\n",
      "Hi Cathy, nice to see you again. How are you doing today?\n",
      "\n",
      "--------------------------------------------------------------------------------\n",
      "\u001b[33mCathy\u001b[0m (to CareBot):\n",
      "\n",
      "Hello CareBot! I'm doing well, thank you for asking. I wanted to reflect on our previous conversation—do you remember what we discussed? It would be helpful to revisit that topic and explore it further if you’re up for it!\n",
      "\n",
      "--------------------------------------------------------------------------------\n",
      "\u001b[33mCareBot\u001b[0m (to Cathy):\n",
      "\n",
      "Of course, Cathy. We talked about your difficulty in processing your mother’s passing and how you've been feeling down and demotivated lately. It's completely natural to have these feelings, especially after such a significant loss. What would you like to explore further?\n",
      "\n",
      "--------------------------------------------------------------------------------\n",
      "\u001b[33mCathy\u001b[0m (to CareBot):\n",
      "\n",
      "Cathy: Thank you for reminding me, CareBot. Yes, I’ve been struggling with those feelings, and it’s been tough to navigate. I’d like to explore some coping strategies to help me process my grief. Are there any techniques or practices you would recommend?\n",
      "\n",
      "--------------------------------------------------------------------------------\n",
      "\u001b[33mCareBot\u001b[0m (to Cathy):\n",
      "\n",
      "Absolutely, Cathy. Here are some coping strategies to help you navigate your grief:\n",
      "\n",
      "1. **Journaling**: Writing your thoughts and feelings can be a great outlet and help you process your emotions.\n",
      "2. **Talk to someone**: Sharing your feelings with a trusted friend or therapist can provide support and understanding.\n",
      "3. **Mindfulness and meditation**: These practices can help ground you and create a sense of calm amid emotional turmoil.\n",
      "4. **Create a tribute**: Honoring your mother through a scrapbook, writing letters, or lighting a candle can foster connection and memory.\n",
      "5. **Physical activity**: Engaging in exercise can boost your mood and help alleviate stress.\n",
      "\n",
      "Remember, it's important to be gentle with yourself as you navigate this process. What resonates with you?\n",
      "\n",
      "--------------------------------------------------------------------------------\n",
      "\u001b[33mCathy\u001b[0m (to CareBot):\n",
      "\n",
      "Cathy: Thank you for those suggestions, CareBot. I really like the idea of journaling and creating a tribute for my mother; it sounds like a meaningful way to express my feelings. I also think mindfulness could help me find some peace amidst the sadness. Do you have any specific tips on how to start journaling or practicing mindfulness?\n",
      "\n",
      "--------------------------------------------------------------------------------\n"
     ]
    }
   ],
   "source": [
    "result = await agent.a_initiate_chat(\n",
    "    cathy,\n",
    "    message=\"Hi Cathy, nice to see you again. How are you doing today?\",\n",
    "    max_turns=3,\n",
    ")"
   ]
  },
  {
   "cell_type": "markdown",
   "metadata": {},
   "source": [
    "## Review current facts in Zep\n",
    "\n",
    "Let's see how the facts have evolved as the conversation has progressed."
   ]
  },
  {
   "cell_type": "code",
   "execution_count": 11,
   "metadata": {},
   "outputs": [
    {
     "name": "stdout",
     "output_type": "stream",
     "text": [
      "created_at='2024-10-07T20:04:28.397184Z' fact=\"Cathy wants to reflect on a previous conversation about her mother and explore the topic of her mother's passing further.\" rating=0.75 uuid_='56488eeb-d8ac-4b2f-8acc-75f71b56ad76'\n",
      "created_at='2024-10-07T20:04:28.397184Z' fact='Cathy is struggling to process the passing of her mother and has been feeling down and demotivated lately.' rating=0.75 uuid_='0fea3f05-ed1a-4e39-a092-c91f8af9e501'\n",
      "created_at='2024-10-07T20:04:28.397184Z' fact='Cathy describes her mother as a kind and loving person.' rating=0.5 uuid_='131de203-2984-4cba-9aef-e500611f06d9'\n"
     ]
    }
   ],
   "source": [
    "response = await zep.memory.get_session_facts(session_id, min_rating=MIN_FACT_RATING)\n",
    "\n",
    "for r in response.facts:\n",
    "    print(r)"
   ]
  },
  {
   "cell_type": "markdown",
   "metadata": {},
   "source": [
    "## Search over Facts in Zep's long-term memory\n",
    "\n",
    "In addition to the `memory.get` method which uses the current conversation to retrieve facts, we can also search Zep with our own keywords. Here, we retrieve facts using a query. Again, we use fact ratings to limit the returned facts to only those with a high poignancy rating.\n",
    "\n",
    "The `memory.search_sessions` API may be used as an Agent tool, enabling an agent to search across user memory for relevant facts."
   ]
  },
  {
   "cell_type": "code",
   "execution_count": 12,
   "metadata": {},
   "outputs": [
    {
     "name": "stdout",
     "output_type": "stream",
     "text": [
      "created_at='2024-10-07T20:04:28.397184Z' fact='Cathy describes her mother as a kind and loving person.' rating=0.5 uuid_='131de203-2984-4cba-9aef-e500611f06d9'\n",
      "created_at='2024-10-07T20:04:28.397184Z' fact='Cathy is struggling to process the passing of her mother and has been feeling down and demotivated lately.' rating=0.75 uuid_='0fea3f05-ed1a-4e39-a092-c91f8af9e501'\n",
      "created_at='2024-10-07T20:04:28.397184Z' fact=\"Cathy wants to reflect on a previous conversation about her mother and explore the topic of her mother's passing further.\" rating=0.75 uuid_='56488eeb-d8ac-4b2f-8acc-75f71b56ad76'\n"
     ]
    }
   ],
   "source": [
    "response = await zep.memory.search_sessions(\n",
    "    text=\"What do you know about Cathy's family?\",\n",
    "    user_id=user_id,\n",
    "    search_scope=\"facts\",\n",
    "    min_fact_rating=MIN_FACT_RATING,\n",
    ")\n",
    "\n",
    "for r in response.results:\n",
    "    print(r.fact)"
   ]
  }
 ],
 "metadata": {
  "kernelspec": {
   "display_name": ".venv",
   "language": "python",
   "name": "python3"
  },
  "language_info": {
   "codemirror_mode": {
    "name": "ipython",
    "version": 3
   },
   "file_extension": ".py",
   "mimetype": "text/x-python",
   "name": "python",
   "nbconvert_exporter": "python",
   "pygments_lexer": "ipython3",
   "version": "3.11.9"
  }
 },
 "nbformat": 4,
 "nbformat_minor": 2
}
